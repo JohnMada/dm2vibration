{
 "cells": [
  {
   "cell_type": "markdown",
   "metadata": {},
   "source": [
    "# Poutre appui-appui en flexion, calcul symboliques"
   ]
  },
  {
   "cell_type": "markdown",
   "metadata": {},
   "source": [
    "## n degrés de liberté"
   ]
  },
  {
   "cell_type": "code",
   "execution_count": 1,
   "metadata": {
    "collapsed": false
   },
   "outputs": [
    {
     "data": {
      "application/javascript": [
       "IPython.notebook.set_autosave_interval(300000)"
      ]
     },
     "metadata": {},
     "output_type": "display_data"
    },
    {
     "name": "stdout",
     "output_type": "stream",
     "text": [
      "Autosaving every 300 seconds\n",
      "\u001b[H\u001b[2J"
     ]
    }
   ],
   "source": [
    "%matplotlib inline\n",
    "%autosave 300\n",
    "%clear\n",
    "import numpy as np\n",
    "import os\n",
    "\n",
    "import scipy as sp\n",
    "from scipy.linalg import eigh # Utile pour traiter le problème aux valeurs propres généralisé\n",
    "\n",
    "import matplotlib.pyplot as plt\n",
    "from __future__ import (division, print_function)\n",
    "from fractions import Fraction\n",
    "from sympy.core.numbers import I # nombre complexe i"
   ]
  },
  {
   "cell_type": "code",
   "execution_count": 7,
   "metadata": {
    "collapsed": false
   },
   "outputs": [],
   "source": [
    "# Calculs symboliques\n",
    "import sympy as sy\n",
    "from sympy.solvers import solve\n",
    "from sympy.interactive.printing import init_printing\n",
    "init_printing(use_unicode=False, wrap_line=False, no_global=True) ## Rend les résultats symboliques plus lisibles\n",
    "\n",
    "from sympy.abc import (x, t, lamda, mu, nu, rho, phi, psi, delta)\n",
    "xi, x,t = sy.symbols('xi x t')\n",
    "omega = sy.symbols('omega')\n",
    "\n",
    "EI, S, L = sy.symbols('EI S L')\n",
    "rho, M, Iz = sy.symbols('rho M I_z')\n",
    "h = sy.symbols('h') # longueur d'un element\n",
    "\n",
    "# degres de libertés\n",
    "# noeud n1\n",
    "v1 = sy.Function('v_1')\n",
    "theta1 = sy.Function('theta_1') # degres de libertes\n",
    "v1p = sy.diff(v1(t), t) # vitesse de translation au noeud\n",
    "theta1p = sy.diff(theta1(t), t) # vitesse de rotation au noeud\n",
    "# noeud n2\n",
    "v2 = sy.Function('v_2')\n",
    "theta2 = sy.Function('theta_2') # degres de libertes\n",
    "v2p = sy.diff(v2(t), t) # vitesse de translation au noeud\n",
    "theta2p = sy.diff(theta2(t), t) # vitesse de rotation au noeud"
   ]
  },
  {
   "cell_type": "markdown",
   "metadata": {},
   "source": [
    "### Construction de la déformée"
   ]
  },
  {
   "cell_type": "markdown",
   "metadata": {},
   "source": [
    "#### Tronçon élémentaire $\\left[kh,(k+1)h \\right]$"
   ]
  },
  {
   "cell_type": "code",
   "execution_count": 13,
   "metadata": {
    "collapsed": false
   },
   "outputs": [
    {
     "ename": "NameError",
     "evalue": "name 'dv2' is not defined",
     "output_type": "error",
     "traceback": [
      "\u001b[0;31m---------------------------------------------------------------------------\u001b[0m",
      "\u001b[0;31mNameError\u001b[0m                                 Traceback (most recent call last)",
      "\u001b[0;32m<ipython-input-13-d4ee27d2887a>\u001b[0m in \u001b[0;36m<module>\u001b[0;34m()\u001b[0m\n\u001b[1;32m     32\u001b[0m \u001b[0ma44\u001b[0m \u001b[0;34m=\u001b[0m \u001b[0;36m0\u001b[0m \u001b[0;31m#dV2.collect((K1,K2,K3,K4), evaluate = False)[K4]\u001b[0m\u001b[0;34m\u001b[0m\u001b[0m\n\u001b[1;32m     33\u001b[0m \u001b[0;34m\u001b[0m\u001b[0m\n\u001b[0;32m---> 34\u001b[0;31m \u001b[0mAB\u001b[0m \u001b[0;34m=\u001b[0m \u001b[0msy\u001b[0m\u001b[0;34m.\u001b[0m\u001b[0mMatrix\u001b[0m\u001b[0;34m(\u001b[0m\u001b[0;34m[\u001b[0m\u001b[0;34m[\u001b[0m\u001b[0ma11\u001b[0m\u001b[0;34m,\u001b[0m \u001b[0ma12\u001b[0m\u001b[0;34m,\u001b[0m \u001b[0ma13\u001b[0m\u001b[0;34m,\u001b[0m \u001b[0ma14\u001b[0m\u001b[0;34m,\u001b[0m \u001b[0mv1\u001b[0m\u001b[0;34m(\u001b[0m\u001b[0mt\u001b[0m\u001b[0;34m)\u001b[0m\u001b[0;34m]\u001b[0m\u001b[0;34m,\u001b[0m\u001b[0;34m[\u001b[0m\u001b[0ma21\u001b[0m\u001b[0;34m,\u001b[0m \u001b[0ma22\u001b[0m\u001b[0;34m,\u001b[0m \u001b[0ma22\u001b[0m\u001b[0;34m,\u001b[0m \u001b[0ma23\u001b[0m\u001b[0;34m,\u001b[0m \u001b[0ma24\u001b[0m\u001b[0;34m,\u001b[0m \u001b[0mtheta1\u001b[0m\u001b[0;34m(\u001b[0m\u001b[0mt\u001b[0m\u001b[0;34m)\u001b[0m\u001b[0;34m]\u001b[0m\u001b[0;34m,\u001b[0m\u001b[0;34m[\u001b[0m\u001b[0ma31\u001b[0m\u001b[0;34m,\u001b[0m \u001b[0ma32\u001b[0m\u001b[0;34m,\u001b[0m \u001b[0ma33\u001b[0m\u001b[0;34m,\u001b[0m \u001b[0ma34\u001b[0m\u001b[0;34m,\u001b[0m \u001b[0mv2\u001b[0m\u001b[0;34m(\u001b[0m\u001b[0mt\u001b[0m\u001b[0;34m)\u001b[0m\u001b[0;34m]\u001b[0m\u001b[0;34m,\u001b[0m \u001b[0;34m[\u001b[0m\u001b[0ma41\u001b[0m\u001b[0;34m,\u001b[0m \u001b[0ma42\u001b[0m\u001b[0;34m,\u001b[0m \u001b[0ma43\u001b[0m\u001b[0;34m,\u001b[0m \u001b[0ma44\u001b[0m\u001b[0;34m,\u001b[0m \u001b[0mdv2\u001b[0m\u001b[0;34m(\u001b[0m\u001b[0mt\u001b[0m\u001b[0;34m)\u001b[0m\u001b[0;34m]\u001b[0m \u001b[0;34m]\u001b[0m\u001b[0;34m)\u001b[0m\u001b[0;34m\u001b[0m\u001b[0m\n\u001b[0m\u001b[1;32m     35\u001b[0m \u001b[0mKi\u001b[0m \u001b[0;34m=\u001b[0m \u001b[0msy\u001b[0m\u001b[0;34m.\u001b[0m\u001b[0msolve_linear_system\u001b[0m\u001b[0;34m(\u001b[0m\u001b[0mAB\u001b[0m\u001b[0;34m,\u001b[0m \u001b[0mK1\u001b[0m\u001b[0;34m,\u001b[0m\u001b[0mK2\u001b[0m\u001b[0;34m,\u001b[0m \u001b[0mK3\u001b[0m\u001b[0;34m,\u001b[0m \u001b[0mK4\u001b[0m\u001b[0;34m)\u001b[0m\u001b[0;34m\u001b[0m\u001b[0m\n\u001b[1;32m     36\u001b[0m \u001b[0mK1\u001b[0m\u001b[0;34m,\u001b[0m \u001b[0mK2\u001b[0m\u001b[0;34m,\u001b[0m \u001b[0mK3\u001b[0m\u001b[0;34m,\u001b[0m \u001b[0mK4\u001b[0m \u001b[0;34m=\u001b[0m \u001b[0mKi\u001b[0m\u001b[0;34m[\u001b[0m\u001b[0mK1\u001b[0m\u001b[0;34m]\u001b[0m\u001b[0;34m,\u001b[0m \u001b[0mKi\u001b[0m\u001b[0;34m[\u001b[0m\u001b[0mK2\u001b[0m\u001b[0;34m]\u001b[0m\u001b[0;34m,\u001b[0m \u001b[0mKi\u001b[0m\u001b[0;34m[\u001b[0m\u001b[0mK3\u001b[0m\u001b[0;34m]\u001b[0m\u001b[0;34m,\u001b[0m \u001b[0mKi\u001b[0m\u001b[0;34m[\u001b[0m\u001b[0mK4\u001b[0m\u001b[0;34m]\u001b[0m\u001b[0;34m\u001b[0m\u001b[0m\n",
      "\u001b[0;31mNameError\u001b[0m: name 'dv2' is not defined"
     ]
    }
   ],
   "source": [
    "K1, K2, K3, K4 = sy.symbols('K_1 K_2 K_3 K_4')\n",
    "\n",
    "V = 1/6*K1/EI*xi**3 + K2/2/EI*xi**2 + K3*xi + K4 # Deplacement dans l'élément gauche de la poutre\n",
    "Vprime = 2/h*sy.diff(V, xi) # dV/dxi = theta(xi)\n",
    "# Resolution de K1 et K2 en fonctions des deplacements nodaux theta et v:\n",
    "# noeud n2\n",
    "V2 = V.subs([(xi, 1)]) # translation au noeud n2\n",
    "dV2 = Vprime.expand().subs([(xi, 1)]) # rotation au noeud n2\n",
    "# noeud n1\n",
    "V1 = V.subs([(xi, -1)]) # translation au noeud n1\n",
    "dV1 = Vprime.subs([(xi, -1)]).expand() # rotation au noeud n1\n",
    "\n",
    "a11 = V1.collect((K1,K2,K3,K4), evaluate = False)[K1]\n",
    "a12 = V1.collect((K1,K2,K3,K4), evaluate = False)[K2]\n",
    "a13 = V1.collect((K1,K2,K3,K4), evaluate = False)[K3]\n",
    "a14 = V1.collect((K1,K2,K3,K4), evaluate = False)[K4]\n",
    "\n",
    "a21 = dV1.collect((K1,K2,K3,K4), evaluate = False)[K1]\n",
    "a22 = dV1.collect((K1,K2,K3,K4), evaluate = False)[K2]\n",
    "a23 = dV1.collect((K1,K2,K3,K4), evaluate = False)[K3]\n",
    "#a24 = dV2.collect((K1,K2,K3,K4), evaluate = False)[K4]\n",
    "a24 = 0\n",
    "\n",
    "a31 = V2.collect((K1,K2,K3,K4), evaluate = False)[K1]\n",
    "a32 = V2.collect((K1,K2,K3,K4), evaluate = False)[K2]\n",
    "a33 = V2.collect((K1,K2,K3,K4), evaluate = False)[K3]\n",
    "a34 = 0 #dV2.collect((K1,K2,K3,K4), evaluate = False)[K4]\n",
    "\n",
    "a41 = dV2.collect((K1,K2,K3,K4), evaluate = False)[K1]\n",
    "a42 = dV2.collect((K1,K2,K3,K4), evaluate = False)[K2]\n",
    "a43 = dV2.collect((K1,K2,K3,K4), evaluate = False)[K3]\n",
    "a44 = 0 #dV2.collect((K1,K2,K3,K4), evaluate = False)[K4]\n",
    "\n",
    "AB = sy.Matrix([[a11, a12, a13, a14, v1(t)],[a21, a22, a22, a23, a24, theta1(t)],[a31, a32, a33, a34, v2(t)], [a41, a42, a43, a44, theta2(t)] ])\n",
    "Ki = sy.solve_linear_system(AB, K1, K2, K3, K4)\n",
    "K1, K2, K3, K4 = Ki[K1], Ki[K2], Ki[K3], Ki[K4]\n",
    "\"\"\"\n",
    "# Forme finale du deplacement\n",
    "V = V.subs([('K_1',K1),('K_2',K2)])\n",
    "V = V.expand().collect((v1(t),theta1(t)))\n",
    "Vpoint = sy.diff(V, t) # dV/dx = theta(x)\n",
    "#v = V*sy.exp(I*omega*t) # v(x,t)\n",
    "\"\"\""
   ]
  },
  {
   "cell_type": "code",
   "execution_count": 25,
   "metadata": {
    "collapsed": false
   },
   "outputs": [
    {
     "data": {
      "image/png": "[encoded data removed]",
      "text/latex": [
       "$$\\left ( - K_{3} + K_{4} - \\frac{0.166666666666667 K_{1}}{EI} + \\frac{K_{2}}{2 EI}, \\quad K_{3} + K_{4} + \\frac{0.166666666666667 K_{1}}{EI} + \\frac{K_{2}}{2 EI}, \\quad \\frac{1}{h} \\left(2 K_{3} + \\frac{K_{1}}{EI} - \\frac{2 K_{2}}{EI}\\right), \\quad \\frac{1}{h} \\left(2 K_{3} + \\frac{K_{1}}{EI} + \\frac{2 K_{2}}{EI}\\right)\\right )$$"
      ],
      "text/plain": [
       "                                                                                        /      0.5*K_1   K_2\\    /      0.5*K_1   K_2\\ \n",
       "                                                                                      2*|K_3 + ------- - ---|  2*|K_3 + ------- + ---| \n",
       "              0.166666666666667*K_1   K_2               0.166666666666667*K_1   K_2     \\         EI      EI/    \\         EI      EI/ \n",
       "(-K_3 + K_4 - --------------------- + ----, K_3 + K_4 + --------------------- + ----, -----------------------, -----------------------)\n",
       "                        EI            2*EI                        EI            2*EI             h                        h            "
      ]
     },
     "execution_count": 25,
     "metadata": {},
     "output_type": "execute_result"
    }
   ],
   "source": [
    "V1, V2, dV1, dV2"
   ]
  },
  {
   "cell_type": "code",
   "execution_count": 36,
   "metadata": {
    "collapsed": false
   },
   "outputs": [
    {
     "data": {
      "image/png": "[encoded data removed]",
      "text/latex": [
       "$$\\left[\\begin{matrix}- \\frac{0.0208333333333333 L^{3}}{EI} & - \\frac{L}{2} & \\operatorname{v_{1}}{\\left (t \\right )}\\\\- \\frac{0.125 L^{2}}{EI} & -1 & \\theta_{1}{\\left (t \\right )}\\end{matrix}\\right]$$"
      ],
      "text/plain": [
       "[                     3                  ]\n",
       "[-0.0208333333333333*L    -L             ]\n",
       "[-----------------------  ---    v_1(t)  ]\n",
       "[           EI             2             ]\n",
       "[                                        ]\n",
       "[              2                         ]\n",
       "[      -0.125*L                          ]\n",
       "[      ----------         -1   theta_1(t)]\n",
       "[          EI                            ]"
      ]
     },
     "execution_count": 36,
     "metadata": {},
     "output_type": "execute_result"
    }
   ],
   "source": [
    "AB"
   ]
  },
  {
   "cell_type": "code",
   "execution_count": 41,
   "metadata": {
    "collapsed": false
   },
   "outputs": [
    {
     "data": {
      "image/png": "[encoded data removed]",
      "text/latex": [
       "$$\\left ( \\frac{EI}{L^{3}} \\left(- 12.0 L \\theta_{1}{\\left (t \\right )} + 24.0 \\operatorname{v_{1}}{\\left (t \\right )}\\right), \\quad 0.5 \\theta_{1}{\\left (t \\right )} - \\frac{3.0}{L} \\operatorname{v_{1}}{\\left (t \\right )}\\right )$$"
      ],
      "text/plain": [
       " EI*(-12.0*L*theta_1(t) + 24.0*v_1(t))                   3.0*v_1(t) \n",
       "(-------------------------------------, 0.5*theta_1(t) - ----------)\n",
       "                    3                                        L      \n",
       "                   L                                                "
      ]
     },
     "execution_count": 41,
     "metadata": {},
     "output_type": "execute_result"
    }
   ],
   "source": [
    "K1, K2"
   ]
  },
  {
   "cell_type": "code",
   "execution_count": 42,
   "metadata": {
    "collapsed": false
   },
   "outputs": [
    {
     "data": {
      "image/png": "[encoded data removed]",
      "text/latex": [
       "$$- \\frac{24.0 EI}{L^{2}} \\theta_{1}{\\left (t \\right )}$$"
      ],
      "text/plain": [
       "-24.0*EI*theta_1(t) \n",
       "--------------------\n",
       "          2         \n",
       "         L          "
      ]
     },
     "execution_count": 42,
     "metadata": {},
     "output_type": "execute_result"
    }
   ],
   "source": [
    "C1.expand()+K1.expand()"
   ]
  },
  {
   "cell_type": "code",
   "execution_count": 43,
   "metadata": {
    "collapsed": false
   },
   "outputs": [
    {
     "data": {
      "image/png": "[encoded data removed]",
      "text/latex": [
       "$$\\left ( \\frac{24.0 EI}{L^{2}} \\operatorname{v_{1}}{\\left (t \\right )}, \\quad - \\frac{24.0 EI}{L^{2}} \\theta_{1}{\\left (t \\right )}\\right )$$"
      ],
      "text/plain": [
       " 24.0*EI*v_1(t)  -24.0*EI*theta_1(t)  \n",
       "(--------------, --------------------)\n",
       "        2                  2          \n",
       "       L                  L           "
      ]
     },
     "execution_count": 43,
     "metadata": {},
     "output_type": "execute_result"
    }
   ],
   "source": [
    "Mtot = K1.expand()*L/2-C1.expand()*L/2\n",
    "Mtot.expand().collect((v1(t),theta1(t))), K1.expand()+C1.expand()"
   ]
  },
  {
   "cell_type": "markdown",
   "metadata": {},
   "source": [
    "### Matrices de masse et de raideur"
   ]
  },
  {
   "cell_type": "markdown",
   "metadata": {},
   "source": [
    "#### Energies"
   ]
  },
  {
   "cell_type": "code",
   "execution_count": 44,
   "metadata": {
    "collapsed": false
   },
   "outputs": [
    {
     "data": {
      "image/png": "[encoded data removed]",
      "text/latex": [
       "$$\\left ( 6.93889390390723 \\cdot 10^{-18} L^{2} S \\rho \\frac{d}{d t} \\theta_{1}{\\left (t \\right )} \\frac{d}{d t} \\operatorname{v_{1}}{\\left (t \\right )} + \\left(0.5 I_{z} + 0.00238095238095238 L^{3} S \\rho\\right) \\frac{d}{d t} \\theta_{1}{\\left (t \\right )}^{2} + \\left(0.242857142857143 L S \\rho + 0.5 M\\right) \\frac{d}{d t} \\operatorname{v_{1}}{\\left (t \\right )}^{2}, \\quad \\frac{6.0 EI}{L} \\theta_{1}^{2}{\\left (t \\right )} + \\frac{24.0 EI}{L^{3}} \\operatorname{v_{1}}^{2}{\\left (t \\right )}\\right )$$"
      ],
      "text/plain": [
       "                                                                                                                    2                                                   2                2                 2    \n",
       "                       2       d              d            /                               3      \\ /d             \\                                        /d         \\   6.0*EI*theta_1 (t)   24.0*EI*v_1 (t) \n",
       "(6.93889390390723e-18*L *S*rho*--(theta_1(t))*--(v_1(t)) + \\0.5*I_z + 0.00238095238095238*L *S*rho/*|--(theta_1(t))|  + (0.242857142857143*L*S*rho + 0.5*M)*|--(v_1(t))| , ------------------ + ---------------)\n",
       "                               dt             dt                                                    \\dt            /                                        \\dt        /           L                    3       \n",
       "                                                                                                                                                                                                       L        "
      ]
     },
     "execution_count": 44,
     "metadata": {},
     "output_type": "execute_result"
    }
   ],
   "source": [
    "# Energie elastique\n",
    "u1 = 1/2*EI*sy.integrate(sy.diff(V, x, 2)**2, (x, 0,L/2))\n",
    "u2 = 1/2*EI*sy.integrate(sy.diff(V2, x, 2)**2, (x, L/2,L))\n",
    "U = u1 + u2\n",
    "U = U.expand().collect([v1(t), theta1(t)])\n",
    "# Energie cinetique\n",
    "T1 = S*rho/2*sy.integrate(sy.diff(V, t)**2, (x, 0, L/2))\n",
    "T2 = S*rho/2*sy.integrate(sy.diff(V2, t)**2, (x, L/2, L))\n",
    "T = T1.expand() + T2.expand() + 1/2*M*v1p**2 + 1/2*Iz*theta1p**2\n",
    "T = T.collect([v1(t), theta1(t)])\n",
    "\n",
    "T, U"
   ]
  },
  {
   "cell_type": "code",
   "execution_count": 45,
   "metadata": {
    "collapsed": false
   },
   "outputs": [],
   "source": [
    "# Lagrangien\n",
    "L = T-U\n",
    "L.expand().collect([v1(t), theta1(t)])\n",
    "# \"Premiere ligne\" de l equation de Lagrange\n",
    "eq1 = sy.diff(sy.diff(L,v1p),t) - sy.diff(L, v1(t))\n",
    "eq1 = eq1.collect([v1(t), theta1(t)], evaluate = False)\n",
    "# \"Deuxieme ligne\"\n",
    "eq2 = sy.diff(sy.diff(L,theta1p),t) - sy.diff(L, theta1(t))\n",
    "eq2 = eq2.collect([v1(t), theta1(t)], evaluate = False)\n"
   ]
  },
  {
   "cell_type": "code",
   "execution_count": 49,
   "metadata": {
    "collapsed": false
   },
   "outputs": [
    {
     "data": {
      "image/png": "[encoded data removed]",
      "text/latex": [
       "$$\\left ( \\left \\{ \\operatorname{v_{1}}{\\left (t \\right )} : \\frac{48.0 EI}{L^{3}}, \\quad \\frac{d^{2}}{d t^{2}}  \\theta_{1}{\\left (t \\right )} : 6.93889390390723 \\cdot 10^{-18} L^{2} S \\rho, \\quad \\frac{d^{2}}{d t^{2}}  \\operatorname{v_{1}}{\\left (t \\right )} : 0.485714285714286 L S \\rho + M\\right \\}, \\quad \\left \\{ \\theta_{1}{\\left (t \\right )} : \\frac{12.0 EI}{L}, \\quad \\frac{d^{2}}{d t^{2}}  \\theta_{1}{\\left (t \\right )} : I_{z} + 0.00476190476190476 L^{3} S \\rho, \\quad \\frac{d^{2}}{d t^{2}}  \\operatorname{v_{1}}{\\left (t \\right )} : 6.93889390390723 \\cdot 10^{-18} L^{2} S \\rho\\right \\}\\right )$$"
      ],
      "text/plain": [
       "                     2                                               2                                                                  2                                                    2                                         \n",
       "          48.0*EI   d                                     2         d                                                        12.0*EI   d                                          3         d                                 2        \n",
       "({v_1(t): -------, ---(theta_1(t)): 6.93889390390723e-18*L *S*rho, ---(v_1(t)): 0.485714285714286*L*S*rho + M}, {theta_1(t): -------, ---(theta_1(t)): I_z + 0.00476190476190476*L *S*rho, ---(v_1(t)): 6.93889390390723e-18*L *S*rho})\n",
       "              3      2                                               2                                                          L       2                                                    2                                         \n",
       "             L     dt                                              dt                                                                 dt                                                   dt                                          "
      ]
     },
     "execution_count": 49,
     "metadata": {},
     "output_type": "execute_result"
    }
   ],
   "source": [
    "eq1, eq2"
   ]
  },
  {
   "cell_type": "markdown",
   "metadata": {},
   "source": [
    "#### Matrice de raideur"
   ]
  },
  {
   "cell_type": "code",
   "execution_count": 51,
   "metadata": {
    "collapsed": false
   },
   "outputs": [
    {
     "data": {
      "image/png": "[encoded data removed]",
      "text/latex": [
       "$$\\left[\\begin{matrix}\\frac{48.0 EI}{L^{3}} & 0\\\\0 & \\frac{12.0 EI}{L}\\end{matrix}\\right]$$"
      ],
      "text/plain": [
       "[48.0*EI         ]\n",
       "[-------     0   ]\n",
       "[    3           ]\n",
       "[   L            ]\n",
       "[                ]\n",
       "[         12.0*EI]\n",
       "[   0     -------]\n",
       "[            L   ]"
      ]
     },
     "execution_count": 51,
     "metadata": {},
     "output_type": "execute_result"
    }
   ],
   "source": [
    "K = sy.zeros(2,2)\n",
    "K[0,0] = eq1[v1(t)]\n",
    "#K[0,1] = eq1[theta1(t)]\n",
    "\n",
    "#K[1,0] = eq2[v1(t)]\n",
    "K[1,1] = eq2[theta1(t)]\n",
    "K"
   ]
  },
  {
   "cell_type": "markdown",
   "metadata": {},
   "source": [
    "#### Matrice de masse"
   ]
  },
  {
   "cell_type": "code",
   "execution_count": 52,
   "metadata": {
    "collapsed": false
   },
   "outputs": [
    {
     "data": {
      "image/png": "[encoded data removed]",
      "text/latex": [
       "$$\\left[\\begin{matrix}0.485714285714286 L S \\rho + M & 0\\\\0 & I_{z} + 0.00476190476190476 L^{3} S \\rho\\end{matrix}\\right]$$"
      ],
      "text/plain": [
       "[0.485714285714286*L*S*rho + M                  0                 ]\n",
       "[                                                                 ]\n",
       "[                                                          3      ]\n",
       "[              0                I_z + 0.00476190476190476*L *S*rho]"
      ]
     },
     "execution_count": 52,
     "metadata": {},
     "output_type": "execute_result"
    }
   ],
   "source": [
    "M = sy.zeros(2,2)\n",
    "M[0,0] = eq1[sy.diff(v1(t),t , 2)]\n",
    "#M[0,1] = eq1[diff(theta1(t),t , 2)]\n",
    "\n",
    "#M[1,0] = eq2[diff(v1(t),t , 2)]\n",
    "M[1,1] = eq2[sy.diff(theta1(t),t , 2)]\n",
    "M"
   ]
  },
  {
   "cell_type": "markdown",
   "metadata": {},
   "source": [
    "### Application numérique"
   ]
  },
  {
   "cell_type": "code",
   "execution_count": 53,
   "metadata": {
    "collapsed": false
   },
   "outputs": [],
   "source": [
    "rho = 10000 # kg/m3 : masse volumique de la poutre\n",
    "b = 0.001 # m : base\n",
    "h = 0.003 # m : hauteur de la poutre\n",
    "L = 0.5 # m : longeur de la poutre\n",
    "EI = 2.1e11*b*h**3 # Nm^2 : module d'Young de la poutre x inertie de section\n",
    "S = b*h # m2 : section de la poutre\n",
    "R = 0.05 # m : rayon du disque\n",
    "m = 10 # kg : masse\n",
    "Iz = m*R**2 # kg.m2 : moment d'inertie du disque autour de z"
   ]
  },
  {
   "cell_type": "code",
   "execution_count": 54,
   "metadata": {
    "collapsed": false
   },
   "outputs": [
    {
     "data": {
      "image/png": "[encoded data removed]",
      "text/latex": [
       "$$\\left ( \\left[\\begin{matrix}2177.28 & 0\\\\0 & 136.08\\end{matrix}\\right], \\quad \\left[\\begin{matrix}10.0072857142857 & 0\\\\0 & 0.0250178571428571\\end{matrix}\\right]\\right )$$"
      ],
      "text/plain": [
       "([2177.28    0   ], [10.0072857142857          0         ])\n",
       " [               ]  [                                    ] \n",
       " [   0     136.08]  [       0          0.0250178571428571] "
      ]
     },
     "execution_count": 54,
     "metadata": {},
     "output_type": "execute_result"
    }
   ],
   "source": [
    "K = K.subs([('EI',EI), ('L',L)])\n",
    "M = M.subs([('M',m), ('L',L), ('S',S), ('rho',rho), ('I_z',Iz)])\n",
    "K, M"
   ]
  },
  {
   "cell_type": "code",
   "execution_count": 55,
   "metadata": {
    "collapsed": false
   },
   "outputs": [],
   "source": [
    "np.savetxt('results/matrice_2d_k', K)\n",
    "np.savetxt('results/matrice_2d_m', M)"
   ]
  }
 ],
 "metadata": {
  "kernelspec": {
   "display_name": "Python 3",
   "language": "python",
   "name": "python3"
  },
  "language_info": {
   "codemirror_mode": {
    "name": "ipython",
    "version": 3
   },
   "file_extension": ".py",
   "mimetype": "text/x-python",
   "name": "python",
   "nbconvert_exporter": "python",
   "pygments_lexer": "ipython3",
   "version": "3.5.2"
  }
 },
 "nbformat": 4,
 "nbformat_minor": 0
}
